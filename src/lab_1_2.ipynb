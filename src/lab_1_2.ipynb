{
 "cells": [
  {
   "cell_type": "markdown",
   "metadata": {},
   "source": [
    "# **Sesión 1:** Calibración de Cámara 📷⚙️"
   ]
  },
  {
   "cell_type": "markdown",
   "metadata": {},
   "source": [
    "## **Instalaciones**"
   ]
  },
  {
   "cell_type": "code",
   "execution_count": 1,
   "metadata": {},
   "outputs": [
    {
     "name": "stdout",
     "output_type": "stream",
     "text": [
      "Requirement already satisfied: numpy==1.26 in /home/manrrolo/Repositorios/Comillas/Visión de Ordenador/Practicas/Practica 1/Lab_1/myenv/lib/python3.12/site-packages (1.26.0)\n",
      "Requirement already satisfied: opencv-python==4.8.0.76 in /home/manrrolo/Repositorios/Comillas/Visión de Ordenador/Practicas/Practica 1/Lab_1/myenv/lib/python3.12/site-packages (4.8.0.76)\n",
      "Requirement already satisfied: imageio in /home/manrrolo/Repositorios/Comillas/Visión de Ordenador/Practicas/Practica 1/Lab_1/myenv/lib/python3.12/site-packages (2.35.1)\n",
      "Requirement already satisfied: pillow>=8.3.2 in /home/manrrolo/Repositorios/Comillas/Visión de Ordenador/Practicas/Practica 1/Lab_1/myenv/lib/python3.12/site-packages (from imageio) (10.4.0)\n"
     ]
    }
   ],
   "source": [
    "!pip install numpy==1.26 opencv-python==4.8.0.76 imageio"
   ]
  },
  {
   "cell_type": "markdown",
   "metadata": {},
   "source": [
    "## **Librerías**"
   ]
  },
  {
   "cell_type": "code",
   "execution_count": 2,
   "metadata": {},
   "outputs": [],
   "source": [
    "from typing import List\n",
    "import matplotlib.pyplot as plt\n",
    "import numpy as np\n",
    "import imageio\n",
    "import cv2\n",
    "import copy\n",
    "import glob\n",
    "import os"
   ]
  },
  {
   "cell_type": "markdown",
   "metadata": {},
   "source": [
    "## **Apartado A: Calibración de cámara** (derecha e izquierda)"
   ]
  },
  {
   "cell_type": "markdown",
   "metadata": {},
   "source": [
    "En este apartado se realiza la calibración de dos cámaras de un sistema estereoscópico. Para ello se trabajará con las imágenes de las carpetas ``left`` y ``right``. En primer lugar se trabajará con la carpeta ``left``. Posteriormente, deberá repetir el proceso con las imágenes en la carpeta ``right``. Ambas carpetas contienen imágenes con las que se calibrarán las cámaras. En ellas aparece el patrón de calibración en diferentes posiciones y orientaciones. Estas imágenes serán los datos de entrada.\n",
    "\n",
    "Los pasos que deberá seguir para calibrar una cámara son:\n",
    "\n",
    "1. Defina y ejecute el método para cargar imágenes ``load_images()``.\n",
    "2. Detecte las esquinas de los patrones usando ``cv2.findChessboardCorners()``. Refine las detecciones con ``cv2.cornerSubPix()``.\n",
    "3. Compruebe que las detecciones son correctas dibujando los resultados con ``cv2.drawChessboardCorners()``.\n",
    "4. Defina y ejecute el método ``get_chessboard_points(chessboard_shape, dx, dy)`` que proporcione las coordenadas 3D de las esquinas del patrón. El sistema de referencia utilizado deberá estar anclado al propio patrón.\n",
    "5. Utilice ``cv2.calibrateCamera`` para obtener los parámetros de calibración para la cámara izquierda."
   ]
  },
  {
   "cell_type": "markdown",
   "metadata": {},
   "source": [
    "### **Tarea A.1:** Defina y ejecute el método para cargar imágenes ``load_images()``."
   ]
  },
  {
   "cell_type": "code",
   "execution_count": 3,
   "metadata": {},
   "outputs": [],
   "source": [
    "def load_images(filenames: List) -> List:\n",
    "    return [imageio.imread(filename) for filename in filenames]"
   ]
  },
  {
   "cell_type": "code",
   "execution_count": 4,
   "metadata": {},
   "outputs": [
    {
     "name": "stdout",
     "output_type": "stream",
     "text": [
      "Loaded 19 images\n"
     ]
    },
    {
     "name": "stderr",
     "output_type": "stream",
     "text": [
      "/tmp/ipykernel_182370/283608422.py:2: DeprecationWarning: Starting with ImageIO v3 the behavior of this function will switch to that of iio.v3.imread. To keep the current behavior (and make this warning disappear) use `import imageio.v2 as imageio` or call `imageio.v2.imread` directly.\n",
      "  return [imageio.imread(filename) for filename in filenames]\n"
     ]
    }
   ],
   "source": [
    "# TODO Build a list containing the paths of all images from the left camera\n",
    "imgs_path = [f for f in glob.glob(\"../data/left/left*.jpg\")]\n",
    "imgs = load_images(imgs_path)\n",
    "print(f'Loaded {len(imgs)} images')\n",
    "# print(f'Image shape: {imgs}')"
   ]
  },
  {
   "cell_type": "markdown",
   "metadata": {},
   "source": [
    "### **Tarea A.2:** Detecte las esquinas de los patrones usando ``cv2.findChessboardCorners()``. Refine las detecciones con ``cv2.cornerSubPix()``."
   ]
  },
  {
   "cell_type": "code",
   "execution_count": 5,
   "metadata": {},
   "outputs": [
    {
     "name": "stdout",
     "output_type": "stream",
     "text": [
      "Found corners in 19 images\n"
     ]
    }
   ],
   "source": [
    "# TODO Find corners with cv2.findChessboardCorners()\n",
    "corners = [cv2.findChessboardCorners(cv2.cvtColor(img, cv2.COLOR_BGR2GRAY), (8, 6), None) for img in imgs]\n",
    "print(f'Found corners in {len(corners)} images')"
   ]
  },
  {
   "cell_type": "code",
   "execution_count": 6,
   "metadata": {},
   "outputs": [
    {
     "name": "stdout",
     "output_type": "stream",
     "text": [
      "Refined corners in 19 images\n"
     ]
    }
   ],
   "source": [
    "corners_copy = copy.deepcopy(corners)\n",
    "criteria = (cv2.TERM_CRITERIA_EPS + cv2.TERM_CRITERIA_MAX_ITER, 30, 0.01)\n",
    "\n",
    "# TODO To refine corner detections with cv2.cornerSubPix() you need to input grayscale images. Build a list containing grayscale images.\n",
    "imgs_gray = [cv2.cvtColor(img, cv2.COLOR_BGR2GRAY) for img in imgs]\n",
    "\n",
    "corners_refined = [cv2.cornerSubPix(i, cor[1], (8, 6), (-1, -1), criteria) if cor[0] else [] for i, cor in zip(imgs_gray, corners_copy)]\n",
    "print(f'Refined corners in {len(corners_refined)} images')"
   ]
  },
  {
   "cell_type": "markdown",
   "metadata": {},
   "source": [
    "### **Tarea A.3:** Compruebe que las detecciones son correctas dibujando los resultados con ``cv2.drawChessboardCorners()``"
   ]
  },
  {
   "cell_type": "code",
   "execution_count": 7,
   "metadata": {},
   "outputs": [],
   "source": [
    "imgs_copy = copy.deepcopy(imgs)"
   ]
  },
  {
   "cell_type": "code",
   "execution_count": 8,
   "metadata": {},
   "outputs": [
    {
     "name": "stdout",
     "output_type": "stream",
     "text": [
      "Corners drawn\n"
     ]
    }
   ],
   "source": [
    "# TODO Use cv2.drawChessboardCorners() to draw the cornes\n",
    "for i, img in enumerate(imgs_copy):\n",
    "    if corners[i][0]:\n",
    "        cv2.drawChessboardCorners(img, (8, 6), corners_refined[i], True)\n",
    "print('Corners drawn')"
   ]
  },
  {
   "cell_type": "code",
   "execution_count": 9,
   "metadata": {},
   "outputs": [],
   "source": [
    "# Crear Carpeta\n",
    "if not os.path.exists(\"../Result\"):\n",
    "    os.makedirs(\"../Result\")"
   ]
  },
  {
   "cell_type": "code",
   "execution_count": 10,
   "metadata": {},
   "outputs": [],
   "source": [
    "# TODO Show images and save when needed\n",
    "\n",
    "def show_image(img, title=\"Image\", show=False):\n",
    "    if show:\n",
    "        cv2.imshow(title, img)\n",
    "        cv2.waitKey(0)\n",
    "        cv2.destroyAllWindows()\n",
    "    \n",
    "def write_image(filename, img):\n",
    "    cv2.imwrite(filename, img)\n",
    "\n",
    "show_images = False\n",
    "for i, img in enumerate(imgs_copy):\n",
    "    show_image(img, f\"Image {i}\", show_images)\n",
    "    write_image(f\"../Result/left_corners_{i}.jpg\", img)"
   ]
  },
  {
   "cell_type": "markdown",
   "metadata": {},
   "source": [
    "### **Tarea A.4:** Defina y ejecute el método ``get_chessboard_points(chessboard_shape, dx, dy)``"
   ]
  },
  {
   "cell_type": "code",
   "execution_count": 32,
   "metadata": {},
   "outputs": [
    {
     "name": "stdout",
     "output_type": "stream",
     "text": [
      "Chessboard points calculated\n"
     ]
    }
   ],
   "source": [
    "# TODO Design the method. It should return a np.array with np.float32 elements\n",
    "def get_chessboard_points(chessboard_shape, dx, dy):\n",
    "    rows, columns = chessboard_shape\n",
    "    \n",
    "    objp = np.zeros((rows * columns, 3), np.float32)\n",
    "    \n",
    "    objp[:, :2] = np.mgrid[0:rows, 0:columns].T.reshape(-1, 2)\n",
    "    \n",
    "    objp[:, 0] *= dx\n",
    "    objp[:, 1] *= dy \n",
    "    \n",
    "    return objp\n",
    "\n",
    "print('Chessboard points calculated')\n"
   ]
  },
  {
   "cell_type": "code",
   "execution_count": 12,
   "metadata": {},
   "outputs": [],
   "source": [
    "# TODO You need the points for every image, not just one\n",
    "chessboard_points = get_chessboard_points((8, 6), 30, 30)\n",
    "\n",
    "objpoints = [chessboard_points for _ in range(len(imgs))]"
   ]
  },
  {
   "cell_type": "markdown",
   "metadata": {},
   "source": [
    "### **Tarea A.5:** Utilice ``cv2.calibrateCamera()`` para obtener los parámetros de calibración para la cámara izquierda"
   ]
  },
  {
   "cell_type": "code",
   "execution_count": 13,
   "metadata": {},
   "outputs": [],
   "source": [
    "# Filter data and get only those with adequate detections\n",
    "valid_corners = [cor[1] for cor in corners if cor[0]]\n",
    "# Convert list to numpy array\n",
    "valid_corners = np.asarray(valid_corners, dtype=np.float32)"
   ]
  },
  {
   "cell_type": "code",
   "execution_count": 14,
   "metadata": {},
   "outputs": [],
   "source": [
    "image_size = imgs[0].shape[1::-1]\n",
    "valid_objpoints = []\n",
    "valid_corners_filtered = []\n",
    "\n",
    "for objp, corners in zip(objpoints, valid_corners):\n",
    "    if corners is not None:\n",
    "        valid_objpoints.append(objp)\n",
    "        valid_corners_filtered.append(corners)\n",
    "# TODO\n",
    "rms, intrinsics, dist_coeffs, rvecs, tvecs = cv2.calibrateCamera(\n",
    "    valid_objpoints,\n",
    "    valid_corners_filtered,\n",
    "    image_size,\n",
    "    None,\n",
    "    None\n",
    ")\n",
    "\n",
    "# Obtain extrinsics\n",
    "extrinsics = list(map(lambda rvec, tvec: np.hstack((cv2.Rodrigues(rvec)[0], tvec)), rvecs, tvecs))\n"
   ]
  },
  {
   "cell_type": "code",
   "execution_count": 15,
   "metadata": {},
   "outputs": [
    {
     "name": "stdout",
     "output_type": "stream",
     "text": [
      "Intrinsics:\n",
      " [[419.17367963   0.         149.87203907]\n",
      " [  0.         420.67532299 128.88566155]\n",
      " [  0.           0.           1.        ]]\n",
      "Distortion coefficients:\n",
      " [[ 2.54768626e-02 -3.34669238e+00  4.93017405e-03 -6.84826718e-03\n",
      "   2.00281254e+01]]\n",
      "Root mean squared reprojection error:\n",
      " 0.153073113715625\n"
     ]
    }
   ],
   "source": [
    "# Print outputs\n",
    "print(\"Intrinsics:\\n\", intrinsics)\n",
    "print(\"Distortion coefficients:\\n\", dist_coeffs)\n",
    "print(\"Root mean squared reprojection error:\\n\", rms)"
   ]
  },
  {
   "cell_type": "markdown",
   "metadata": {},
   "source": [
    "### **Pregunta A.1:** Repita el proceso (carga de imágenes, detección y comprobación de esquinas, etc.) para la cámara derecha."
   ]
  },
  {
   "cell_type": "code",
   "execution_count": 33,
   "metadata": {},
   "outputs": [
    {
     "name": "stdout",
     "output_type": "stream",
     "text": [
      "Error RMS de la cámara derecha: 0.2058885062087141\n",
      "Matriz intrínseca de la cámara derecha:\n",
      "[[432.19183617   0.         146.77820872]\n",
      " [  0.         435.44775778 137.27781905]\n",
      " [  0.           0.           1.        ]]\n",
      "Coeficientes de distorsión de la cámara derecha:\n",
      "[[-0.1186237  -0.18601095  0.00625041 -0.00822418  1.08945435]]\n"
     ]
    },
    {
     "name": "stderr",
     "output_type": "stream",
     "text": [
      "/tmp/ipykernel_182370/283608422.py:2: DeprecationWarning: Starting with ImageIO v3 the behavior of this function will switch to that of iio.v3.imread. To keep the current behavior (and make this warning disappear) use `import imageio.v2 as imageio` or call `imageio.v2.imread` directly.\n",
      "  return [imageio.imread(filename) for filename in filenames]\n"
     ]
    }
   ],
   "source": [
    "# TODO Homework\n",
    "\n",
    "right_imgs_path = glob.glob('../data/right/right*.jpg')\n",
    "right_imgs = load_images(right_imgs_path)\n",
    "\n",
    "right_corners = [cv2.findChessboardCorners(cv2.cvtColor(img, cv2.COLOR_BGR2GRAY), (8, 6), None) for img in right_imgs]\n",
    "right_corners_copy = copy.deepcopy(right_corners)\n",
    "\n",
    "right_imgs_gray = [cv2.cvtColor(img, cv2.COLOR_BGR2GRAY) for img in right_imgs]\n",
    "\n",
    "right_corners_refined = [cv2.cornerSubPix(i, cor[1], (11, 11), (-1, -1), criteria) if cor[0] else [] for i, cor in zip(right_imgs_gray, right_corners_copy)]\n",
    "\n",
    "right_imgs_copy = copy.deepcopy(right_imgs)\n",
    "for i, img in enumerate(right_imgs_copy):\n",
    "    if right_corners[i][0]:\n",
    "        cv2.drawChessboardCorners(img, (8, 6), right_corners_refined[i], True)\n",
    "    show_image(img, f\"Right Image {i+1}\")\n",
    "    write_image(f\"../Result/right_corners_{i+1}.jpg\", img)\n",
    "    # print(f\"Right Image {i+1} saved\")\n",
    "\n",
    "valid_right_corners = []\n",
    "valid_objpoints = []\n",
    "\n",
    "for i, corner in enumerate(right_corners):\n",
    "    if corner[0]: \n",
    "        valid_right_corners.append(corner[1])\n",
    "        valid_objpoints.append(objpoints[i])\n",
    "\n",
    "valid_right_corners = np.asarray(valid_right_corners, dtype=np.float32)\n",
    "\n",
    "\n",
    "rms_right, intrinsics_right, dist_coeffs_right, rvecs_right, tvecs_right = cv2.calibrateCamera(\n",
    "    valid_objpoints,\n",
    "    valid_right_corners,\n",
    "    right_imgs[0].shape[1::-1],\n",
    "    None,\n",
    "    None\n",
    ")\n",
    "\n",
    "print(f\"Error RMS de la cámara derecha: {rms_right}\")\n",
    "print(f\"Matriz intrínseca de la cámara derecha:\\n{intrinsics_right}\")\n",
    "print(f\"Coeficientes de distorsión de la cámara derecha:\\n{dist_coeffs_right}\")\n"
   ]
  },
  {
   "cell_type": "markdown",
   "metadata": {},
   "source": [
    "### **Pregunta A.2:** Diferencias entre cv2.findChessboardCorners() y cv2.cornerSubPix()"
   ]
  },
  {
   "cell_type": "markdown",
   "metadata": {},
   "source": [
    "### **Diferencias entre `cv2.findChessboardCorners()` y `cv2.cornerSubPix()`**\n",
    "\n",
    "- `cv2.findChessboardCorners()`: Esta función busca las esquinas del tablero de ajedrez en la imagen en escala de grises. Devuelve una lista de coordenadas aproximadas de las esquinas. Estas coordenadas son lo suficientemente precisas para encontrar la forma general del tablero, pero pueden no ser completamente exactas debido a distorsiones o ruidos en la imagen.\n",
    "\n",
    "- `cv2.cornerSubPix()`: Esta función toma las coordenadas aproximadas devueltas por `cv2.findChessboardCorners()` y las refina a nivel de subpíxeles. Utiliza un criterio de terminación (como número máximo de iteraciones o error mínimo) para mejorar la precisión de las esquinas detectadas, proporcionando coordenadas mucho más precisas.\n",
    "\n",
    "**Ejemplo visual:**\n",
    "1. `cv2.findChessboardCorners()` encontrará las esquinas de manera general y rápida.\n",
    "2. `cv2.cornerSubPix()` mejorará estas detecciones para que sean mucho más precisas, lo que es importante para la calibración de la cámara.\n"
   ]
  },
  {
   "cell_type": "code",
   "execution_count": 17,
   "metadata": {},
   "outputs": [
    {
     "name": "stdout",
     "output_type": "stream",
     "text": [
      "Imágenes guardadas en A2_output\n"
     ]
    }
   ],
   "source": [
    "# TODO Homework\n",
    "\n",
    "output_dir = \"A2_output\"\n",
    "if not os.path.exists(output_dir):\n",
    "    os.makedirs(output_dir)\n",
    "\n",
    "# Charge image and convert to grayscale\n",
    "img_path = glob.glob('../data/left/left*.jpg')[0]\n",
    "img = cv2.imread(img_path)\n",
    "\n",
    "gray = cv2.cvtColor(img, cv2.COLOR_BGR2GRAY)\n",
    "\n",
    "chessboard_size = (8, 6)\n",
    "\n",
    "ret, corners = cv2.findChessboardCorners(gray, chessboard_size, None)\n",
    "\n",
    "if ret:\n",
    "    img_corners = img.copy()\n",
    "    cv2.drawChessboardCorners(img_corners, chessboard_size, corners, ret)\n",
    "    cv2.imwrite(f\"{output_dir}/findChessboardCorners.jpg\", img_corners)\n",
    "\n",
    "    criteria = (cv2.TERM_CRITERIA_EPS + cv2.TERM_CRITERIA_MAX_ITER, 30, 0.01)\n",
    "    corners_refined = cv2.cornerSubPix(gray, corners, (11, 11), (-1, -1), criteria)\n",
    "\n",
    "    img_corners_refined = img.copy()\n",
    "    cv2.drawChessboardCorners(img_corners_refined, chessboard_size, corners_refined, ret)\n",
    "    cv2.imwrite(f\"{output_dir}/cornerSubPix.jpg\", img_corners_refined)\n",
    "\n",
    "    # (Descomentar)\n",
    "    # cv2.imshow(\"Original Corners\", img_corners)\n",
    "    # cv2.imshow(\"Refined Corners\", img_corners_refined)\n",
    "    # cv2.waitKey(0)\n",
    "    # cv2.destroyAllWindows()\n",
    "\n",
    "    print(f\"Imágenes guardadas en {output_dir}\")\n",
    "else:\n",
    "    print(\"No se encontraron esquinas.\")\n"
   ]
  },
  {
   "cell_type": "markdown",
   "metadata": {},
   "source": [
    "### **Pregunta A.3:** Número mínimo de imágenes necesarias para calibrar."
   ]
  },
  {
   "cell_type": "markdown",
   "metadata": {},
   "source": [
    "### **Número mínimo de imágenes necesarias para la calibración de la cámara**\n",
    "\n",
    "Para calibrar una cámara, es necesario contar con suficientes imágenes de un tablero de ajedrez en diferentes posiciones y orientaciones. En general, se recomienda tener al menos 10 imágenes desde diferentes ángulos para lograr una calibración precisa. Sin embargo, el número mínimo de imágenes necesarias puede variar dependiendo de la complejidad de la distorsión de la lente y de la precisión deseada en la calibración.\n",
    "\n",
    "#### Análisis basado en Pareto:\n",
    "En la práctica, se puede realizar un análisis de Pareto para determinar cuántas imágenes adicionales reducen significativamente el error de calibración. El objetivo es minimizar el **error RMS** (Root Mean Square) que devuelve `cv2.calibrateCamera()` mientras se utilizan el menor número de imágenes posible. Si el error RMS no mejora significativamente con más imágenes, podemos decir que hemos alcanzado un número adecuado de imágenes para la calibración.\n",
    "\n",
    "En resumen, **10 a 20 imágenes** es un rango razonable para calibrar la mayoría de las cámaras, pero la calidad y variabilidad de las imágenes son factores importantes.\n"
   ]
  },
  {
   "cell_type": "code",
   "execution_count": 34,
   "metadata": {},
   "outputs": [
    {
     "data": {
      "image/png": "[encoded data removed]",
      "text/plain": [
       "<Figure size 640x480 with 1 Axes>"
      ]
     },
     "metadata": {},
     "output_type": "display_data"
    },
    {
     "name": "stdout",
     "output_type": "stream",
     "text": [
      "Gráfico guardado en A3_output\n"
     ]
    }
   ],
   "source": [
    "# TODO Homework\n",
    "\n",
    "output_dir = \"A3_output\"\n",
    "if not os.path.exists(output_dir):\n",
    "    os.makedirs(output_dir)\n",
    "\n",
    "# charge images and convert to grayscale\n",
    "img_paths = glob.glob('../data/left/left*.jpg')\n",
    "imgs = [cv2.imread(img) for img in img_paths]\n",
    "\n",
    "chessboard_size = (8, 6)\n",
    "objp = np.zeros((chessboard_size[0] * chessboard_size[1], 3), np.float32)\n",
    "objp[:, :2] = np.mgrid[0:chessboard_size[0], 0:chessboard_size[1]].T.reshape(-1, 2)\n",
    "objpoints = []\n",
    "imgpoints = []\n",
    "\n",
    "for img in imgs:\n",
    "    gray = cv2.cvtColor(img, cv2.COLOR_BGR2GRAY)\n",
    "    ret, corners = cv2.findChessboardCorners(gray, chessboard_size, None)\n",
    "    if ret:\n",
    "        imgpoints.append(corners)\n",
    "        objpoints.append(objp)\n",
    "\n",
    "def calibrate_with_n_images(n):\n",
    "    \"\"\"\n",
    "    Calibrar la cámara con 'n' imágenes y devolver el error RMS.\n",
    "    \"\"\"\n",
    "    objpoints_subset = objpoints[:n]\n",
    "    imgpoints_subset = imgpoints[:n]\n",
    "    \n",
    "    rms, _, _, _, _ = cv2.calibrateCamera(objpoints_subset, imgpoints_subset, gray.shape[::-1], None, None)\n",
    "    \n",
    "    return rms\n",
    "\n",
    "rms_errors = []\n",
    "\n",
    "for i in range(5, len(imgpoints) + 1):\n",
    "    rms = calibrate_with_n_images(i)\n",
    "    rms_errors.append(rms)\n",
    "\n",
    "# Graficar los errores RMS\n",
    "plt.plot(range(5, len(imgpoints) + 1), rms_errors, marker='o')\n",
    "plt.xlabel(\"Número de Imágenes Utilizadas\")\n",
    "plt.ylabel(\"Error RMS\")\n",
    "plt.title(\"Error RMS vs. Número de Imágenes\")\n",
    "plt.grid()\n",
    "plt.savefig(f\"{output_dir}/rms_vs_images.png\")\n",
    "plt.show()\n",
    "\n",
    "print(f\"Gráfico guardado en {output_dir}\")\n"
   ]
  },
  {
   "cell_type": "markdown",
   "metadata": {},
   "source": [
    "## **Apartado B: Corrección de distorsión** (ojo de pez)"
   ]
  },
  {
   "cell_type": "markdown",
   "metadata": {},
   "source": [
    "En este apartado se trabajará en la corrección de la distorsión debido a lentes de ojo de pez. Primero se calibrará una cámara con este tipo de lente, utilizando las imágenes de la carpeta ``fisheye``. Posteriormente se utilizarán estos parámetros de calibración para corregir la distorsión de una de las imágenes de calibración.\n",
    "\n",
    "Los pasos que deberá seguir para calibrar una cámara con distorsión de ojo de pez son:\n",
    "\n",
    "1. Reutilice el método ``load_images()`` para cargar las imágenes de la carpeta ``fisheye``.\n",
    "2. Detecte las equinas procesando las imágenes con los métodos ``cv2.findChessboardCorners()`` y ``cv2.cornerSubPix()``.\n",
    "3. Reutilice la función ``get_chessboard_points()`` para obtener las coordenadas del tablero.\n",
    "4. Defina los argumentos para la función de calibración.\n",
    "5. Calibre con ``cv2.fisheye.calibrate()``"
   ]
  },
  {
   "cell_type": "markdown",
   "metadata": {},
   "source": [
    "### **Tarea B.1:** Reutilice el método ``load_images()`` para cargar las imágenes de la carpeta ``fisheye``"
   ]
  },
  {
   "cell_type": "code",
   "execution_count": 19,
   "metadata": {},
   "outputs": [
    {
     "name": "stdout",
     "output_type": "stream",
     "text": [
      "Loaded 10 fisheye images\n",
      "['../data/fisheye/VMRImage8.jpg', '../data/fisheye/VMRImage1.jpg', '../data/fisheye/VMRImage9.jpg', '../data/fisheye/VMRImage5.jpg', '../data/fisheye/VMRImage3.jpg', '../data/fisheye/VMRImage0.jpg', '../data/fisheye/VMRImage4.jpg', '../data/fisheye/VMRImage2.jpg', '../data/fisheye/VMRImage6.jpg', '../data/fisheye/VMRImage7.jpg']\n"
     ]
    },
    {
     "name": "stderr",
     "output_type": "stream",
     "text": [
      "/tmp/ipykernel_182370/283608422.py:2: DeprecationWarning: Starting with ImageIO v3 the behavior of this function will switch to that of iio.v3.imread. To keep the current behavior (and make this warning disappear) use `import imageio.v2 as imageio` or call `imageio.v2.imread` directly.\n",
      "  return [imageio.imread(filename) for filename in filenames]\n"
     ]
    }
   ],
   "source": [
    "\n",
    "\n",
    "# TODO Build a list containing the paths of all images from the fisheye camera and load images\n",
    "fisheye_imgs_path = glob.glob('../data/fisheye/*.jpg')\n",
    "fisheye_imgs = load_images(fisheye_imgs_path)\n",
    "print(f'Loaded {len(fisheye_imgs)} fisheye images')\n",
    "print(fisheye_imgs_path)\n",
    "# print(f'{fisheye_imgs}')"
   ]
  },
  {
   "cell_type": "markdown",
   "metadata": {},
   "source": [
    "### **Tarea B.2:** Detecte las equinas procesando las imágenes con los métodos ``cv2.findChessboardCorners()`` y ``cv2.cornerSubPix()``."
   ]
  },
  {
   "cell_type": "code",
   "execution_count": 20,
   "metadata": {},
   "outputs": [
    {
     "name": "stdout",
     "output_type": "stream",
     "text": [
      "Número de imágenes procesadas: 10\n",
      "Número de esquinas detectadas correctamente: 10\n"
     ]
    }
   ],
   "source": [
    "imgs_corners = []\n",
    "# Parameters for cv2.cornerSubPix()\n",
    "subpix_criteria = (cv2.TERM_CRITERIA_EPS+cv2.TERM_CRITERIA_MAX_ITER, 30, 0.1)\n",
    "chessboard_size = (7, 6)\n",
    "#TODO Complete the required parts of the loop\n",
    "for img in fisheye_imgs:\n",
    "    \n",
    "    # TODO parse arguments to cv2.findChessboardCorners()\n",
    "    gray_img = cv2.cvtColor(img, cv2.COLOR_BGR2GRAY)\n",
    "    \n",
    "    ret, corners = cv2.findChessboardCorners(gray_img, chessboard_size, None)\n",
    "    \n",
    "    if ret:\n",
    "        refined_corners = cv2.cornerSubPix(gray_img, corners, (3, 3), (-1, -1), subpix_criteria)\n",
    "        \n",
    "        imgs_corners.append(refined_corners)\n",
    "    else:\n",
    "        imgs_corners.append(None)\n",
    "        \n",
    "print(f'Número de imágenes procesadas: {len(imgs_corners)}')\n",
    "print(f'Número de esquinas detectadas correctamente: {len([c for c in imgs_corners if c is not None])}')\n",
    "# print(imgs_corners)"
   ]
  },
  {
   "cell_type": "markdown",
   "metadata": {},
   "source": [
    "### **Tarea B.3:** Reutilice la función ``get_chessboard_points()`` para obtener las coordenadas del tablero"
   ]
  },
  {
   "cell_type": "code",
   "execution_count": 21,
   "metadata": {},
   "outputs": [],
   "source": [
    "# TODO Define the chessboard dimensions and the lenght of the squares (in [mm])\n",
    "chessboard_dims = (7, 6)\n",
    "length = 30\n",
    "# TODO You need the points for every image, not just one (consider a list comprehension)\n",
    "fisheye_chessboard_points = [get_chessboard_points(chessboard_dims, length, length) for _ in range(len(fisheye_imgs))]\n",
    "# print(f'{fisheye_chessboard_points}')"
   ]
  },
  {
   "cell_type": "markdown",
   "metadata": {},
   "source": [
    "### **Tarea B.4:** Defina los argumentos para la calibración"
   ]
  },
  {
   "cell_type": "code",
   "execution_count": 22,
   "metadata": {},
   "outputs": [],
   "source": [
    "# Parameters for cv2.fisheye.calibrate()\n",
    "calibration_flags = cv2.fisheye.CALIB_RECOMPUTE_EXTRINSIC+cv2.fisheye.CALIB_FIX_SKEW\n",
    "intrinsics = np.zeros((3, 3))\n",
    "distortion = np.zeros((4, 1))\n",
    "rotations = [np.zeros((1, 1, 3), dtype=np.float64) for _ in imgs_corners]\n",
    "traslations = [np.zeros((1, 1, 3), dtype=np.float64) for _ in imgs_corners]\n"
   ]
  },
  {
   "cell_type": "markdown",
   "metadata": {},
   "source": [
    "### **Tarea B.5:** Calibración"
   ]
  },
  {
   "cell_type": "code",
   "execution_count": 35,
   "metadata": {},
   "outputs": [
    {
     "name": "stdout",
     "output_type": "stream",
     "text": [
      "Tipo de datos de fisheye_chessboard_points después de la conversión: <class 'list'>\n",
      "Forma de fisheye_chessboard_points después de la conversión: (10, 42, 1, 3)\n",
      "Tipo de datos de imgs_corners después de la conversión: <class 'list'>\n",
      "Forma de imgs_corners después de la conversión: (10, 42, 1, 2)\n",
      "Error en la calibración: OpenCV(4.8.0) /io/opencv/modules/calib3d/src/fisheye.cpp:757: error: (-215:Assertion failed) rvecs.empty() || (rvecs.channels() == 3) in function 'calibrate'\n",
      "\n"
     ]
    }
   ],
   "source": [
    "fisheye_chessboard_points = [np.array(points, dtype=np.float32).reshape(-1, 1, 3) for points in fisheye_chessboard_points]\n",
    "\n",
    "imgs_corners = [np.array(corners, dtype=np.float32).reshape(-1, 1, 2) for corners in imgs_corners if corners is not None]\n",
    "\n",
    "print(f\"Tipo de datos de fisheye_chessboard_points después de la conversión: {type(fisheye_chessboard_points)}\")\n",
    "print(f\"Forma de fisheye_chessboard_points después de la conversión: {np.array(fisheye_chessboard_points).shape}\")\n",
    "print(f\"Tipo de datos de imgs_corners después de la conversión: {type(imgs_corners)}\")\n",
    "print(f\"Forma de imgs_corners después de la conversión: {np.array(imgs_corners).shape}\")\n",
    "\n",
    "try:\n",
    "    rms, intrinsics, distortion, rotations, traslations = cv2.fisheye.calibrate(\n",
    "        fisheye_chessboard_points,\n",
    "        imgs_corners,\n",
    "        gray_img.shape[::-1],\n",
    "        intrinsics,\n",
    "        distortion,\n",
    "        rotations,\n",
    "        traslations,\n",
    "        calibration_flags,\n",
    "        (cv2.TERM_CRITERIA_EPS + cv2.TERM_CRITERIA_MAX_ITER, 30, 1e-6)\n",
    "    )\n",
    "\n",
    "    # Mostrar los resultados de la calibración\n",
    "    print(f\"Error RMS: {rms}\")\n",
    "    print(f\"Matriz intrínseca:\\n{intrinsics}\")\n",
    "    print(f\"Coeficientes de distorsión:\\n{distortion}\")\n",
    "except cv2.error as e:\n",
    "    print(f\"Error en la calibración: {e}\")\n"
   ]
  },
  {
   "cell_type": "code",
   "execution_count": 25,
   "metadata": {},
   "outputs": [
    {
     "name": "stdout",
     "output_type": "stream",
     "text": [
      "[[188.86914026   0.         503.92900347]\n",
      " [  0.         185.32638678 373.58044468]\n",
      " [  0.           0.           1.        ]]\n",
      "[[ 0.07734388]\n",
      " [ 0.01482361]\n",
      " [ 0.02351869]\n",
      " [-0.02757565]]\n"
     ]
    }
   ],
   "source": [
    "# Show intrinsic matrix and distortion coefficients values\n",
    "print(intrinsics)\n",
    "print(distortion)"
   ]
  },
  {
   "cell_type": "markdown",
   "metadata": {},
   "source": [
    "### **Pregunta B.1:** Corrija la distorsión de las 2 primeras imágenes de la carpeta ``fisheye``"
   ]
  },
  {
   "cell_type": "code",
   "execution_count": 26,
   "metadata": {},
   "outputs": [],
   "source": [
    "# TODO Search in the documentation to define 'dim'\n",
    "dim = fisheye_imgs[0].shape[1::-1]\n",
    "map1, map2 = cv2.fisheye.initUndistortRectifyMap(intrinsics, distortion, np.eye(3), intrinsics, dim, cv2.CV_16SC2)"
   ]
  },
  {
   "cell_type": "code",
   "execution_count": 36,
   "metadata": {},
   "outputs": [],
   "source": [
    "# TODO Homework: correct distortion using cv2.remap()\n",
    "\n",
    "undistorted_imgs = []\n",
    "\n",
    "num_imgs_to_correct = 2\n",
    "\n",
    "for i, img in enumerate(fisheye_imgs[:num_imgs_to_correct]):\n",
    "    undistorted_img = cv2.remap(img, map1, map2, interpolation=cv2.INTER_LINEAR, borderMode=cv2.BORDER_CONSTANT)\n",
    "    \n",
    "    undistorted_imgs.append(undistorted_img)\n",
    "    \n",
    "    cv2.imwrite(f'undistorted_fisheye_image_{i+1}.jpg', undistorted_img)\n",
    "    \n",
    "    # (Descomentar para mostrar)\n",
    "    # cv2.imshow(f'Undistorted Image {i+1}', undistorted_img)\n",
    "    # cv2.waitKey(2000)  # Mostrar la imagen durante 500ms (ajustable)\n",
    "\n",
    "cv2.destroyAllWindows()"
   ]
  }
 ],
 "metadata": {
  "kernelspec": {
   "display_name": "tnse_delete",
   "language": "python",
   "name": "python3"
  },
  "language_info": {
   "codemirror_mode": {
    "name": "ipython",
    "version": 3
   },
   "file_extension": ".py",
   "mimetype": "text/x-python",
   "name": "python",
   "nbconvert_exporter": "python",
   "pygments_lexer": "ipython3",
   "version": "3.12.3"
  }
 },
 "nbformat": 4,
 "nbformat_minor": 2
}
