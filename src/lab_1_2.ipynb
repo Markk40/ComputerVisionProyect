{
 "cells": [
  {
   "cell_type": "markdown",
   "metadata": {},
   "source": [
    "# **Sesión 1:** Calibración de Cámara 📷⚙️"
   ]
  },
  {
   "cell_type": "markdown",
   "metadata": {},
   "source": [
    "## **Instalaciones**"
   ]
  },
  {
   "cell_type": "code",
   "execution_count": 38,
   "metadata": {},
   "outputs": [
    {
     "name": "stdout",
     "output_type": "stream",
     "text": [
      "Looking in indexes: https://pypi.org/simple, https://www.piwheels.org/simple\n",
      "Requirement already satisfied: numpy==1.26 in /home/pi/Desktop/ComputerVisionProyect/myenv/lib/python3.11/site-packages (1.26.0)\n",
      "Requirement already satisfied: opencv-python==4.8.0.76 in /home/pi/Desktop/ComputerVisionProyect/myenv/lib/python3.11/site-packages (4.8.0.76)\n",
      "Requirement already satisfied: imageio in /home/pi/Desktop/ComputerVisionProyect/myenv/lib/python3.11/site-packages (2.36.0)\n",
      "Requirement already satisfied: pillow>=8.3.2 in /home/pi/Desktop/ComputerVisionProyect/myenv/lib/python3.11/site-packages (from imageio) (11.0.0)\n"
     ]
    }
   ],
   "source": [
    "!pip install numpy==1.26 opencv-python==4.8.0.76 imageio"
   ]
  },
  {
   "cell_type": "markdown",
   "metadata": {},
   "source": [
    "## **Librerías**"
   ]
  },
  {
   "cell_type": "code",
   "execution_count": 39,
   "metadata": {},
   "outputs": [],
   "source": [
    "import cv2\n",
    "import os\n",
    "import cv2\n",
    "import numpy as np\n",
    "import glob\n",
    "import copy\n",
    "from sklearn.ensemble import RandomForestClassifier\n",
    "from sklearn.model_selection import train_test_split\n",
    "import pickle\n",
    "from typing import List\n",
    "import imageio"
   ]
  },
  {
   "cell_type": "markdown",
   "metadata": {},
   "source": [
    "## **Apartado A: Calibración de cámara** (derecha e izquierda)"
   ]
  },
  {
   "cell_type": "markdown",
   "metadata": {},
   "source": [
    "### **A.1:** Captura de imagenes."
   ]
  },
  {
   "cell_type": "code",
   "execution_count": 40,
   "metadata": {},
   "outputs": [],
   "source": [
    "def load_images(filenames: List) -> List:\n",
    "    return [cv2.imread(filename) for filename in filenames]"
   ]
  },
  {
   "cell_type": "code",
   "execution_count": 41,
   "metadata": {},
   "outputs": [
    {
     "name": "stdout",
     "output_type": "stream",
     "text": [
      "Found 38 images\n"
     ]
    },
    {
     "name": "stdout",
     "output_type": "stream",
     "text": [
      "Loaded 38 images\n"
     ]
    }
   ],
   "source": [
    "# TODO Build a list containing the paths of all images from the left camera\n",
    "imgs_path = [f for f in glob.glob(\"../data/Imagen*.jpg\")]\n",
    "print(f\"Found {len(imgs_path)} images\")\n",
    "imgs = load_images(imgs_path)\n",
    "print(f\"Loaded {len(imgs)} images\")"
   ]
  },
  {
   "cell_type": "markdown",
   "metadata": {},
   "source": [
    "### **Tarea A.2:** Detecte las esquinas de los patrones usando ``cv2.findChessboardCorners()``. Refine las detecciones con ``cv2.cornerSubPix()``."
   ]
  },
  {
   "cell_type": "code",
   "execution_count": 42,
   "metadata": {},
   "outputs": [
    {
     "name": "stdout",
     "output_type": "stream",
     "text": [
      "Found corners in 38 images\n"
     ]
    }
   ],
   "source": [
    "# TODO Find corners with cv2.findChessboardCorners()\n",
    "corners = [cv2.findChessboardCorners(cv2.cvtColor(img, cv2.COLOR_BGR2GRAY), (7, 7), None) for img in imgs]\n",
    "print(f'Found corners in {len(corners)} images')"
   ]
  },
  {
   "cell_type": "code",
   "execution_count": 43,
   "metadata": {},
   "outputs": [
    {
     "name": "stdout",
     "output_type": "stream",
     "text": [
      "Refined corners in 38 images\n"
     ]
    }
   ],
   "source": [
    "corners_copy = copy.deepcopy(corners)\n",
    "criteria = (cv2.TERM_CRITERIA_EPS + cv2.TERM_CRITERIA_MAX_ITER, 30, 0.01)\n",
    "\n",
    "# TODO To refine corner detections with cv2.cornerSubPix() you need to input grayscale images. Build a list containing grayscale images.\n",
    "imgs_gray = [cv2.cvtColor(img, cv2.COLOR_BGR2GRAY) for img in imgs]\n",
    "\n",
    "corners_refined = [cv2.cornerSubPix(i, cor[1], (7, 7), (-1, -1), criteria) if cor[0] else [] for i, cor in zip(imgs_gray, corners_copy)]\n",
    "print(f'Refined corners in {len(corners_refined)} images')"
   ]
  },
  {
   "cell_type": "markdown",
   "metadata": {},
   "source": [
    "### **Tarea A.3:** Compruebe que las detecciones son correctas dibujando los resultados con ``cv2.drawChessboardCorners()``"
   ]
  },
  {
   "cell_type": "code",
   "execution_count": 44,
   "metadata": {},
   "outputs": [],
   "source": [
    "imgs_copy = copy.deepcopy(imgs)"
   ]
  },
  {
   "cell_type": "code",
   "execution_count": 45,
   "metadata": {},
   "outputs": [
    {
     "name": "stdout",
     "output_type": "stream",
     "text": [
      "Corners drawn\n"
     ]
    }
   ],
   "source": [
    "# TODO Use cv2.drawChessboardCorners() to draw the cornes\n",
    "for i, img in enumerate(imgs_copy):\n",
    "    if corners[i][0]:\n",
    "        cv2.drawChessboardCorners(img, (7, 7), corners_refined[i], True)\n",
    "print('Corners drawn')"
   ]
  },
  {
   "cell_type": "code",
   "execution_count": 46,
   "metadata": {},
   "outputs": [],
   "source": [
    "# Crear Carpeta\n",
    "if not os.path.exists(\"../Result\"):\n",
    "    os.makedirs(\"../Result\")"
   ]
  },
  {
   "cell_type": "code",
   "execution_count": 47,
   "metadata": {},
   "outputs": [],
   "source": [
    "# TODO Show images and save when needed\n",
    "\n",
    "def show_image(img, title=\"Image\", show=False):\n",
    "    if show:\n",
    "        cv2.imshow(title, img)\n",
    "        cv2.waitKey(0)\n",
    "        cv2.destroyAllWindows()\n",
    "    \n",
    "def write_image(filename, img):\n",
    "    cv2.imwrite(filename, img)\n",
    "\n",
    "show_images = False\n",
    "for i, img in enumerate(imgs_copy):\n",
    "    show_image(img, f\"Image {i}\", show_images)\n",
    "    write_image(f\"../Result/Image_{i}.jpg\", img)"
   ]
  },
  {
   "cell_type": "markdown",
   "metadata": {},
   "source": [
    "### **Tarea A.4:** Defina y ejecute el método ``get_chessboard_points(chessboard_shape, dx, dy)``"
   ]
  },
  {
   "cell_type": "code",
   "execution_count": 48,
   "metadata": {},
   "outputs": [
    {
     "name": "stdout",
     "output_type": "stream",
     "text": [
      "Chessboard points calculated\n"
     ]
    }
   ],
   "source": [
    "# TODO Design the method. It should return a np.array with np.float32 elements\n",
    "def get_chessboard_points(chessboard_shape, dx, dy):\n",
    "    rows, columns = chessboard_shape\n",
    "    \n",
    "    objp = np.zeros((rows * columns, 3), np.float32)\n",
    "    \n",
    "    objp[:, :2] = np.mgrid[0:rows, 0:columns].T.reshape(-1, 2)\n",
    "    \n",
    "    objp[:, 0] *= dx\n",
    "    objp[:, 1] *= dy \n",
    "    \n",
    "    return objp\n",
    "\n",
    "print('Chessboard points calculated')\n"
   ]
  },
  {
   "cell_type": "code",
   "execution_count": 49,
   "metadata": {},
   "outputs": [],
   "source": [
    "# TODO You need the points for every image, not just one\n",
    "chessboard_points = get_chessboard_points((7, 7), 30, 30)\n",
    "\n",
    "objpoints = [chessboard_points for _ in range(len(imgs))]"
   ]
  },
  {
   "cell_type": "markdown",
   "metadata": {},
   "source": [
    "### **Tarea A.5:** Utilice ``cv2.calibrateCamera()`` para obtener los parámetros de calibración para la cámara izquierda"
   ]
  },
  {
   "cell_type": "code",
   "execution_count": 50,
   "metadata": {},
   "outputs": [],
   "source": [
    "# Filter data and get only those with adequate detections\n",
    "valid_corners = [cor[1] for cor in corners if cor[0]]\n",
    "# Convert list to numpy array\n",
    "valid_corners = np.asarray(valid_corners, dtype=np.float32)"
   ]
  },
  {
   "cell_type": "code",
   "execution_count": 51,
   "metadata": {},
   "outputs": [],
   "source": [
    "image_size = imgs[0].shape[1::-1]\n",
    "valid_objpoints = []\n",
    "valid_corners_filtered = []\n",
    "\n",
    "for objp, corners in zip(objpoints, valid_corners):\n",
    "    if corners is not None:\n",
    "        valid_objpoints.append(objp)\n",
    "        valid_corners_filtered.append(corners)\n",
    "# TODO\n",
    "rms, intrinsics, dist_coeffs, rvecs, tvecs = cv2.calibrateCamera(\n",
    "    valid_objpoints,\n",
    "    valid_corners_filtered,\n",
    "    image_size,\n",
    "    None,\n",
    "    None\n",
    ")\n",
    "\n",
    "# Obtain extrinsics\n",
    "extrinsics = list(map(lambda rvec, tvec: np.hstack((cv2.Rodrigues(rvec)[0], tvec)), rvecs, tvecs))\n"
   ]
  },
  {
   "cell_type": "code",
   "execution_count": 52,
   "metadata": {},
   "outputs": [
    {
     "name": "stdout",
     "output_type": "stream",
     "text": [
      "Intrinsics:\n",
      " [[2.89295437e+04 0.00000000e+00 6.38394349e+02]\n",
      " [0.00000000e+00 1.91301639e+04 3.58683444e+02]\n",
      " [0.00000000e+00 0.00000000e+00 1.00000000e+00]]\n",
      "Distortion coefficients:\n",
      " [[50.50349858  2.28122837  0.18564972  0.07040023  0.0570115 ]]\n",
      "Root mean squared reprojection error:\n",
      " 1.3782918368913035\n"
     ]
    }
   ],
   "source": [
    "# Print outputs\n",
    "print(\"Intrinsics:\\n\", intrinsics)\n",
    "print(\"Distortion coefficients:\\n\", dist_coeffs)\n",
    "print(\"Root mean squared reprojection error:\\n\", rms)"
   ]
  },
  {
   "cell_type": "markdown",
   "metadata": {},
   "source": [
    "## **Apartado B: Corrección de distorsión** (ojo de pez)"
   ]
  },
  {
   "cell_type": "markdown",
   "metadata": {},
   "source": [
    "En este apartado se trabajará en la corrección de la distorsión debido a lentes de ojo de pez. Primero se calibrará una cámara con este tipo de lente, utilizando las imágenes de la carpeta ``fisheye``. Posteriormente se utilizarán estos parámetros de calibración para corregir la distorsión de una de las imágenes de calibración.\n",
    "\n",
    "Los pasos que deberá seguir para calibrar una cámara con distorsión de ojo de pez son:\n",
    "\n",
    "1. Reutilice el método ``load_images()`` para cargar las imágenes de la carpeta ``fisheye``.\n",
    "2. Detecte las equinas procesando las imágenes con los métodos ``cv2.findChessboardCorners()`` y ``cv2.cornerSubPix()``.\n",
    "3. Reutilice la función ``get_chessboard_points()`` para obtener las coordenadas del tablero.\n",
    "4. Defina los argumentos para la función de calibración.\n",
    "5. Calibre con ``cv2.fisheye.calibrate()``"
   ]
  },
  {
   "cell_type": "markdown",
   "metadata": {},
   "source": [
    "### **Tarea B.1:** Reutilice el método ``load_images()`` para cargar las imágenes de la carpeta ``fisheye``"
   ]
  },
  {
   "cell_type": "code",
   "execution_count": null,
   "metadata": {},
   "outputs": [
    {
     "name": "stdout",
     "output_type": "stream",
     "text": [
      "Loaded 10 fisheye images\n",
      "['../data/fisheye/VMRImage8.jpg', '../data/fisheye/VMRImage1.jpg', '../data/fisheye/VMRImage9.jpg', '../data/fisheye/VMRImage5.jpg', '../data/fisheye/VMRImage3.jpg', '../data/fisheye/VMRImage0.jpg', '../data/fisheye/VMRImage4.jpg', '../data/fisheye/VMRImage2.jpg', '../data/fisheye/VMRImage6.jpg', '../data/fisheye/VMRImage7.jpg']\n"
     ]
    },
    {
     "name": "stderr",
     "output_type": "stream",
     "text": [
      "/tmp/ipykernel_182370/283608422.py:2: DeprecationWarning: Starting with ImageIO v3 the behavior of this function will switch to that of iio.v3.imread. To keep the current behavior (and make this warning disappear) use `import imageio.v2 as imageio` or call `imageio.v2.imread` directly.\n",
      "  return [imageio.imread(filename) for filename in filenames]\n"
     ]
    }
   ],
   "source": [
    "\n",
    "\n",
    "# TODO Build a list containing the paths of all images from the fisheye camera and load images\n",
    "fisheye_imgs_path = glob.glob('../data/fisheye/*.jpg')\n",
    "fisheye_imgs = load_images(fisheye_imgs_path)\n",
    "print(f'Loaded {len(fisheye_imgs)} fisheye images')\n",
    "print(fisheye_imgs_path)\n",
    "# print(f'{fisheye_imgs}')"
   ]
  },
  {
   "cell_type": "markdown",
   "metadata": {},
   "source": [
    "### **Tarea B.2:** Detecte las equinas procesando las imágenes con los métodos ``cv2.findChessboardCorners()`` y ``cv2.cornerSubPix()``."
   ]
  },
  {
   "cell_type": "code",
   "execution_count": null,
   "metadata": {},
   "outputs": [
    {
     "name": "stdout",
     "output_type": "stream",
     "text": [
      "Número de imágenes procesadas: 10\n",
      "Número de esquinas detectadas correctamente: 10\n"
     ]
    }
   ],
   "source": [
    "imgs_corners = []\n",
    "# Parameters for cv2.cornerSubPix()\n",
    "subpix_criteria = (cv2.TERM_CRITERIA_EPS+cv2.TERM_CRITERIA_MAX_ITER, 30, 0.1)\n",
    "chessboard_size = (7, 6)\n",
    "#TODO Complete the required parts of the loop\n",
    "for img in fisheye_imgs:\n",
    "    \n",
    "    # TODO parse arguments to cv2.findChessboardCorners()\n",
    "    gray_img = cv2.cvtColor(img, cv2.COLOR_BGR2GRAY)\n",
    "    \n",
    "    ret, corners = cv2.findChessboardCorners(gray_img, chessboard_size, None)\n",
    "    \n",
    "    if ret:\n",
    "        refined_corners = cv2.cornerSubPix(gray_img, corners, (3, 3), (-1, -1), subpix_criteria)\n",
    "        \n",
    "        imgs_corners.append(refined_corners)\n",
    "    else:\n",
    "        imgs_corners.append(None)\n",
    "        \n",
    "print(f'Número de imágenes procesadas: {len(imgs_corners)}')\n",
    "print(f'Número de esquinas detectadas correctamente: {len([c for c in imgs_corners if c is not None])}')\n",
    "# print(imgs_corners)"
   ]
  },
  {
   "cell_type": "markdown",
   "metadata": {},
   "source": [
    "### **Tarea B.3:** Reutilice la función ``get_chessboard_points()`` para obtener las coordenadas del tablero"
   ]
  },
  {
   "cell_type": "code",
   "execution_count": null,
   "metadata": {},
   "outputs": [],
   "source": [
    "# TODO Define the chessboard dimensions and the lenght of the squares (in [mm])\n",
    "chessboard_dims = (7, 6)\n",
    "length = 30\n",
    "# TODO You need the points for every image, not just one (consider a list comprehension)\n",
    "fisheye_chessboard_points = [get_chessboard_points(chessboard_dims, length, length) for _ in range(len(fisheye_imgs))]\n",
    "# print(f'{fisheye_chessboard_points}')"
   ]
  },
  {
   "cell_type": "markdown",
   "metadata": {},
   "source": [
    "### **Tarea B.4:** Defina los argumentos para la calibración"
   ]
  },
  {
   "cell_type": "code",
   "execution_count": null,
   "metadata": {},
   "outputs": [],
   "source": [
    "# Parameters for cv2.fisheye.calibrate()\n",
    "calibration_flags = cv2.fisheye.CALIB_RECOMPUTE_EXTRINSIC+cv2.fisheye.CALIB_FIX_SKEW\n",
    "intrinsics = np.zeros((3, 3))\n",
    "distortion = np.zeros((4, 1))\n",
    "rotations = [np.zeros((1, 1, 3), dtype=np.float64) for _ in imgs_corners]\n",
    "traslations = [np.zeros((1, 1, 3), dtype=np.float64) for _ in imgs_corners]\n"
   ]
  },
  {
   "cell_type": "markdown",
   "metadata": {},
   "source": [
    "### **Tarea B.5:** Calibración"
   ]
  },
  {
   "cell_type": "code",
   "execution_count": null,
   "metadata": {},
   "outputs": [
    {
     "name": "stdout",
     "output_type": "stream",
     "text": [
      "Tipo de datos de fisheye_chessboard_points después de la conversión: <class 'list'>\n",
      "Forma de fisheye_chessboard_points después de la conversión: (10, 42, 1, 3)\n",
      "Tipo de datos de imgs_corners después de la conversión: <class 'list'>\n",
      "Forma de imgs_corners después de la conversión: (10, 42, 1, 2)\n",
      "Error en la calibración: OpenCV(4.8.0) /io/opencv/modules/calib3d/src/fisheye.cpp:757: error: (-215:Assertion failed) rvecs.empty() || (rvecs.channels() == 3) in function 'calibrate'\n",
      "\n"
     ]
    }
   ],
   "source": [
    "fisheye_chessboard_points = [np.array(points, dtype=np.float32).reshape(-1, 1, 3) for points in fisheye_chessboard_points]\n",
    "\n",
    "imgs_corners = [np.array(corners, dtype=np.float32).reshape(-1, 1, 2) for corners in imgs_corners if corners is not None]\n",
    "\n",
    "print(f\"Tipo de datos de fisheye_chessboard_points después de la conversión: {type(fisheye_chessboard_points)}\")\n",
    "print(f\"Forma de fisheye_chessboard_points después de la conversión: {np.array(fisheye_chessboard_points).shape}\")\n",
    "print(f\"Tipo de datos de imgs_corners después de la conversión: {type(imgs_corners)}\")\n",
    "print(f\"Forma de imgs_corners después de la conversión: {np.array(imgs_corners).shape}\")\n",
    "\n",
    "try:\n",
    "    rms, intrinsics, distortion, rotations, traslations = cv2.fisheye.calibrate(\n",
    "        fisheye_chessboard_points,\n",
    "        imgs_corners,\n",
    "        gray_img.shape[::-1],\n",
    "        intrinsics,\n",
    "        distortion,\n",
    "        rotations,\n",
    "        traslations,\n",
    "        calibration_flags,\n",
    "        (cv2.TERM_CRITERIA_EPS + cv2.TERM_CRITERIA_MAX_ITER, 30, 1e-6)\n",
    "    )\n",
    "\n",
    "    # Mostrar los resultados de la calibración\n",
    "    print(f\"Error RMS: {rms}\")\n",
    "    print(f\"Matriz intrínseca:\\n{intrinsics}\")\n",
    "    print(f\"Coeficientes de distorsión:\\n{distortion}\")\n",
    "except cv2.error as e:\n",
    "    print(f\"Error en la calibración: {e}\")\n"
   ]
  },
  {
   "cell_type": "code",
   "execution_count": null,
   "metadata": {},
   "outputs": [
    {
     "name": "stdout",
     "output_type": "stream",
     "text": [
      "[[188.86914026   0.         503.92900347]\n",
      " [  0.         185.32638678 373.58044468]\n",
      " [  0.           0.           1.        ]]\n",
      "[[ 0.07734388]\n",
      " [ 0.01482361]\n",
      " [ 0.02351869]\n",
      " [-0.02757565]]\n"
     ]
    }
   ],
   "source": [
    "# Show intrinsic matrix and distortion coefficients values\n",
    "print(intrinsics)\n",
    "print(distortion)"
   ]
  },
  {
   "cell_type": "markdown",
   "metadata": {},
   "source": [
    "### **Pregunta B.1:** Corrija la distorsión de las 2 primeras imágenes de la carpeta ``fisheye``"
   ]
  },
  {
   "cell_type": "code",
   "execution_count": null,
   "metadata": {},
   "outputs": [],
   "source": [
    "# TODO Search in the documentation to define 'dim'\n",
    "dim = fisheye_imgs[0].shape[1::-1]\n",
    "map1, map2 = cv2.fisheye.initUndistortRectifyMap(intrinsics, distortion, np.eye(3), intrinsics, dim, cv2.CV_16SC2)"
   ]
  },
  {
   "cell_type": "code",
   "execution_count": null,
   "metadata": {},
   "outputs": [],
   "source": [
    "# TODO Homework: correct distortion using cv2.remap()\n",
    "\n",
    "undistorted_imgs = []\n",
    "\n",
    "num_imgs_to_correct = 2\n",
    "\n",
    "for i, img in enumerate(fisheye_imgs[:num_imgs_to_correct]):\n",
    "    undistorted_img = cv2.remap(img, map1, map2, interpolation=cv2.INTER_LINEAR, borderMode=cv2.BORDER_CONSTANT)\n",
    "    \n",
    "    undistorted_imgs.append(undistorted_img)\n",
    "    \n",
    "    cv2.imwrite(f'undistorted_fisheye_image_{i+1}.jpg', undistorted_img)\n",
    "    \n",
    "    # (Descomentar para mostrar)\n",
    "    # cv2.imshow(f'Undistorted Image {i+1}', undistorted_img)\n",
    "    # cv2.waitKey(2000)  # Mostrar la imagen durante 500ms (ajustable)\n",
    "\n",
    "cv2.destroyAllWindows()"
   ]
  }
 ],
 "metadata": {
  "kernelspec": {
   "display_name": "myenv",
   "language": "python",
   "name": "python3"
  },
  "language_info": {
   "codemirror_mode": {
    "name": "ipython",
    "version": 3
   },
   "file_extension": ".py",
   "mimetype": "text/x-python",
   "name": "python",
   "nbconvert_exporter": "python",
   "pygments_lexer": "ipython3",
   "version": "3.11.2"
  }
 },
 "nbformat": 4,
 "nbformat_minor": 2
}
